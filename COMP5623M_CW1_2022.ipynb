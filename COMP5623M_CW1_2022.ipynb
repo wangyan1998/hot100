{
 "cells": [
  {
   "cell_type": "markdown",
   "metadata": {
    "id": "LR4bovYL4CJz"
   },
   "source": [
    "## COMP5623M Assessment Coursework 1 - Image Classification [100 marks]\n",
    "\n",
    "The maximum number of marks for each part are shown in the section headers. As indicated in the main heading above, the overall assessment carries a maximum of 100 marks.\n",
    "\n",
    "This summative assessment is weighted 25% of the final grade for the module.\n",
    "\n",
    "### Motivation \n",
    "\n",
    "Through this coursework, you will:\n",
    "\n",
    "> 1. Practice building, evaluating, and finetuning a convolutional neural network on an image dataset from development to testing. \n",
    "> 2. Gain a deeper understanding of feature maps and filters by visualizing some from a pre-trained network. \n",
    "\n",
    "\n",
    "### Setup and resources \n",
    "\n",
    "You must work using this provided template notebook.\n",
    "\n",
    "Having a GPU will speed up the training process, especially for Question 1.3. See the provided document on Minerva about setting up a working environment for various ways to access a GPU.\n",
    "\n",
    "Please implement the coursework using **Python and PyTorch**, and refer to the notebooks and exercises provided.\n",
    "\n",
    "This coursework will use a subset of images from Tiny ImageNet, which is a subset of the ImageNet dataset [https://image-net.org/]. Our subset of Tiny ImageNet contains 30 different categories, we will refer to it as TinyImageNet30. The training set has 450 resized images (64x64 pixels) for each category (13,500 images in total). You can download the training and test set from the Kaggle website:\n",
    "\n",
    ">[Private class Kaggle competition and data](https://www.kaggle.com/t/9b703e0d71824a658e186d5f69960e27)\n",
    "\n",
    "To access the dataset, you will need an account on the Kaggle website. Even if you have an existing Kaggle account, please carefully adhere to these instructions, or we may not be able to locate your entries:\n",
    "\n",
    "> 1. Use your **university email** to register a new account.\n",
    "> 2. Set your **Kaggle account NAME** to your university username, for example, ``sc15jb``.\n",
    "\n",
    "The class Kaggle competition also includes a blind test set, which will be used in Question 1 for evaluating your custom model's performance on a test set. The competition website will compute the test set accuracy, as well as position your model on the class leaderboard.\n",
    "\n",
    "### Submission\n",
    "\n",
    "Please submit the following:\n",
    "\n",
    "> 1. Your completed Jupyter notebook file, without removing anything in the template, in **.ipynb format.**\n",
    "> 2. The **.html version** of your notebook; File > Download as > HTML (.html). Check that all cells have been run and all outputs (including all graphs you would like to be marked) displayed in the .html for marking.\n",
    "> 3. Your selected image from section 2.4.2 \"Failure analysis\"\n",
    "\n",
    "Final note:\n",
    "\n",
    "> **Please display everything that you would like to be marked. Under each section, put the relevant code containing your solution. You may re-use functions you defined previously, but any new code must be in the relevant section.** Feel free to add as many code cells as you need under each section.\n",
    "\n",
    "Your student username (for example, ```sc15jb```):\n"
   ]
  },
  {
   "cell_type": "markdown",
   "metadata": {},
   "source": [
    "--> double click to respond"
   ]
  },
  {
   "cell_type": "markdown",
   "metadata": {},
   "source": [
    "Your full name:"
   ]
  },
  {
   "cell_type": "markdown",
   "metadata": {},
   "source": [
    "--> double click to respond"
   ]
  },
  {
   "cell_type": "markdown",
   "metadata": {},
   "source": [
    "## Imports\n",
    "\n",
    "Feel free to add to this section as needed.\n",
    "\n",
    "You may need to download `cv2` using [pip](https://pypi.org/project/opencv-python/) or [conda](https://anaconda.org/conda-forge/opencv)."
   ]
  },
  {
   "cell_type": "code",
   "execution_count": 2,
   "metadata": {},
   "outputs": [],
   "source": [
    "import cv2\n",
    "import math\n",
    "\n",
    "import numpy as np\n",
    "import torch\n",
    "import torch.nn as nn\n",
    "import torchvision.transforms as transforms\n",
    "from torch.hub import load_state_dict_from_url\n",
    "\n",
    "from PIL import Image\n",
    "import matplotlib.pyplot as plt"
   ]
  },
  {
   "cell_type": "markdown",
   "metadata": {
    "id": "kfR--uYXHdIi"
   },
   "source": [
    "## QUESTION 1 [55 marks]\n",
    "\n",
    "One challenge of building a deep learning model is to choose an architecture that can learn the features in the dataset without being unnecessarily complex. The first part of the coursework involves building a CNN and training it on TinyImageNet30. \n",
    "\n",
    "### **Overview:**\n",
    "*   **1.1.1** PyTorch ```Dataset``` and ```DataLoader``` classes\n",
    "*   **1.1.2** PyTorch ```Model``` class for simple CNN model\n",
    "*   **1.1.3** Overfitting on a single batch\n",
    "*   **1.2.1** Training on complete dataset\n",
    "*   **1.2.2** Fine-tuning model\n",
    "*   **1.2.3** Generating confusion matrices\n",
    "*   **1.3**   Testing on test set on Kaggle\n",
    "\n",
    "\n",
    "## 1.1 Single-batch training [14 marks]\n",
    "\n",
    "We will use a method of development called “single-batch training”, or \"overfitting a single batch\", in which we check that our model and the training code is working properly and can overfit a single training batch (i.e., we can drive the training loss to zero). Then we move on to training on the complete training set and adjust for any overfitting and fine-tune the model via regularisation.\n",
    "\n",
    "### 1.1.1 Dataset class [3 marks]\n",
    "\n",
    "Write a PyTorch ```Dataset``` class (an example [here](https://www.askpython.com/python-modules/pytorch-custom-datasets) for reference) which loads the TinyImage30 dataset and ```DataLoaders``` for training and validation sets.\n"
   ]
  },
  {
   "cell_type": "code",
   "execution_count": null,
   "metadata": {},
   "outputs": [],
   "source": [
    "# TO COMPLETE"
   ]
  },
  {
   "cell_type": "code",
   "execution_count": null,
   "metadata": {},
   "outputs": [],
   "source": []
  },
  {
   "cell_type": "code",
   "execution_count": null,
   "metadata": {},
   "outputs": [],
   "source": []
  },
  {
   "cell_type": "markdown",
   "metadata": {},
   "source": [
    "### 1.1.2 Define a CNN model [3 marks]\n",
    "\n",
    "Create a new model class using a combination of convolutional and fully connected layers, ReLU, and max-pool. "
   ]
  },
  {
   "cell_type": "code",
   "execution_count": null,
   "metadata": {},
   "outputs": [],
   "source": [
    "# TO COMPLETE\n",
    "# define a Model class"
   ]
  },
  {
   "cell_type": "markdown",
   "metadata": {},
   "source": [
    "### 1.1.3 Single-batch training [8 marks]\n",
    "\n",
    "Write the foundational code which trains your network given **one single batch** of training data and computes the loss on the complete validation set for each epoch. Set ```batch_size = 64```. \n",
    "\n",
    "Display the graph of the training and validation loss over training epochs, showing as long as necessary to show you can drive the training loss to zero.\n",
    "\n",
    "> Please leave all graphs and code you would like to be marked clearly displayed without needing to run code cells or wait for training.\n"
   ]
  },
  {
   "cell_type": "code",
   "execution_count": null,
   "metadata": {},
   "outputs": [],
   "source": [
    "# TO COMPLETE"
   ]
  },
  {
   "cell_type": "code",
   "execution_count": null,
   "metadata": {},
   "outputs": [],
   "source": []
  },
  {
   "cell_type": "code",
   "execution_count": null,
   "metadata": {},
   "outputs": [],
   "source": []
  },
  {
   "cell_type": "markdown",
   "metadata": {},
   "source": [
    "\n",
    "\n",
    "## 1.2 Training on complete dataset [23 marks]\n",
    "\n",
    "### 1.2.1 Train CNN and show loss graph [6 marks]\n",
    "\n",
    "Train your model on the complete training dataset, and use the validation set to determine when to stop training.\n",
    "\n",
    "Display the graph of training and validation loss over epochs to show how you determined the optimal number of training epochs.\n",
    "\n",
    "> As in previous sections, please leave the graph clearly displayed.\n"
   ]
  },
  {
   "cell_type": "code",
   "execution_count": null,
   "metadata": {},
   "outputs": [],
   "source": [
    "# TO COMPLETE"
   ]
  },
  {
   "cell_type": "code",
   "execution_count": null,
   "metadata": {},
   "outputs": [],
   "source": []
  },
  {
   "cell_type": "code",
   "execution_count": null,
   "metadata": {},
   "outputs": [],
   "source": []
  },
  {
   "cell_type": "markdown",
   "metadata": {},
   "source": [
    "\n",
    "### 1.2.2 Finetuning [6 marks]\n",
    "\n",
    "Now finetune your architecture by implementing at least 2 methods of reducing overfitting and increasing the model's ability to generalise. You are encouraged to further adjust the model after you have done the minimum requirement, to increase your model performance. Please do not use any pre-trained weights from a model trained on ImageNet.\n"
   ]
  },
  {
   "cell_type": "markdown",
   "metadata": {},
   "source": [
    "**Method 1:** Data augmentation of your choice"
   ]
  },
  {
   "cell_type": "markdown",
   "metadata": {},
   "source": [
    "**Method 2:** Adding dropout and/or batch normalisation to the model"
   ]
  },
  {
   "cell_type": "markdown",
   "metadata": {},
   "source": [
    "If you adjust the Model class, redefine it below and instantiate it as ```model_122a```, ```model_122b```, and so on.\n",
    "\n"
   ]
  },
  {
   "cell_type": "code",
   "execution_count": null,
   "metadata": {},
   "outputs": [],
   "source": [
    "# TO COMPLETE"
   ]
  },
  {
   "cell_type": "code",
   "execution_count": null,
   "metadata": {},
   "outputs": [],
   "source": []
  },
  {
   "cell_type": "code",
   "execution_count": null,
   "metadata": {},
   "outputs": [],
   "source": []
  },
  {
   "cell_type": "code",
   "execution_count": null,
   "metadata": {},
   "outputs": [],
   "source": [
    "# instantiate your new Model class\n",
    "# model_122"
   ]
  },
  {
   "cell_type": "markdown",
   "metadata": {},
   "source": [
    "\n",
    "### 1.2.3 Training comparison [4 marks]\n",
    "\n",
    "Display, side-by-side or on one single graph, the training and validation loss graphs for the single-batch training (section 1.1.3), on the full training set (1.2.1) and your final fine-tuned model (1.2.2). "
   ]
  },
  {
   "cell_type": "code",
   "execution_count": null,
   "metadata": {},
   "outputs": [],
   "source": []
  },
  {
   "cell_type": "code",
   "execution_count": null,
   "metadata": {},
   "outputs": [],
   "source": []
  },
  {
   "cell_type": "markdown",
   "metadata": {},
   "source": [
    "Explain what can be seen in the graphs.\n",
    "\n",
    "--> Double click here to respond"
   ]
  },
  {
   "cell_type": "markdown",
   "metadata": {},
   "source": [
    "\n",
    "### 1.2.4 Confusion matrices [7 marks]\n",
    "\n",
    "Use your architecture with best accuracy to generate two confusion matrices, one for the training set and one for the validation set. Remember to use the whole validation and training sets, and to include all your relevant code. Display the confusion matrices in a meaningful way which clearly indicates what percentage of the data is represented in each position.\n",
    "\n"
   ]
  },
  {
   "cell_type": "code",
   "execution_count": null,
   "metadata": {},
   "outputs": [],
   "source": [
    "# TO COMPLETE"
   ]
  },
  {
   "cell_type": "code",
   "execution_count": null,
   "metadata": {},
   "outputs": [],
   "source": []
  },
  {
   "cell_type": "markdown",
   "metadata": {},
   "source": [
    "What conclusions can be drawn from the confusion matrices?"
   ]
  },
  {
   "cell_type": "markdown",
   "metadata": {},
   "source": [
    "---> Double click to respond here"
   ]
  },
  {
   "cell_type": "markdown",
   "metadata": {},
   "source": [
    "\n",
    "\n",
    "## 1.3 Testing on test data [18 marks]\n",
    "\n",
    "### 1.3.1 Dataset and generating predictions [6 marks]\n",
    "\n",
    "Create a PyTorch ```Dataset``` for the unlabeled test data in the test_set folder of the Kaggle competition and generate predictions using your final model. \n"
   ]
  },
  {
   "cell_type": "code",
   "execution_count": null,
   "metadata": {},
   "outputs": [],
   "source": [
    "# TO COMPLETE"
   ]
  },
  {
   "cell_type": "code",
   "execution_count": null,
   "metadata": {},
   "outputs": [],
   "source": []
  },
  {
   "cell_type": "code",
   "execution_count": null,
   "metadata": {},
   "outputs": [],
   "source": []
  },
  {
   "cell_type": "markdown",
   "metadata": {},
   "source": [
    "\n",
    "### 1.3.2 CSV file and test set accuracy [12 marks]\n",
    "\n",
    "Save all test predictions to a CSV file and submit it to the private class Kaggle competition. **Please save your test CSV file submissions using your student username (the one with letters, ie., ``sc15jb``, not the ID with only numbers)**, for example, `sc15jb.csv`. That will help us to identify your submissions.\n",
    "\n",
    "The CSV file must contain only two columns: ‘Id’ and ‘Category’ (predicted class ID) as shown below:\n",
    "\n",
    "```txt\n",
    "Id,Category\n",
    "28d0f5e9_373c.JPEG,2\n",
    "bbe4895f_40bf.JPEG,18\n",
    "```\n",
    "\n",
    "The ‘Id’ column should include the name of the image. It is important to keep the same name as the one on the test set. Do not include any path, just the name of file (with extension). Your csv file must contain 1501 rows, one for each image on test set and 1 row for the headers.\n",
    "\n",
    "> You may submit multiple times. We will use your personal top entry for allocating marks for this [10 marks]. The class leaderboard will not affect marking (brownie points!).\n",
    "\n"
   ]
  },
  {
   "cell_type": "code",
   "execution_count": null,
   "metadata": {},
   "outputs": [],
   "source": [
    "# TO COMPLETE"
   ]
  },
  {
   "cell_type": "code",
   "execution_count": null,
   "metadata": {},
   "outputs": [],
   "source": []
  },
  {
   "cell_type": "code",
   "execution_count": null,
   "metadata": {},
   "outputs": [],
   "source": []
  },
  {
   "cell_type": "markdown",
   "metadata": {
    "id": "C_sR8Gc04CJ2"
   },
   "source": [
    "\n",
    "\n",
    "## QUESTION 2 [40 marks]\n",
    "\n",
    "\n",
    "\n",
    "In this question, you will visualize the filters and feature maps of a fully-trained CNN (AlexNet) on the full ImageNet 2012 dataset.\n",
    "\n",
    "> Please do not alter the name of the function or the number and type of its arguments and return values, otherwise the automatic grading function will not work correctly. You are welcome to import other modules (though the simplest solution only requires the ones below).\n"
   ]
  },
  {
   "cell_type": "markdown",
   "metadata": {
    "id": "r-HIUgQ-HK8Y"
   },
   "source": [
    "### **Overview:**\n",
    "*   **2.1.1** Extract filters from model: ``fetch_filters(layer_idx, model)``\n",
    "*   **2.2.1** Load test image\n",
    "*   **2.2.2** Extract feature maps for given test image: ``fetch_feature_maps(image, model)``\n",
    "*   **2.2.3** Display feature maps\n",
    "*   **2.3.1** Generate Grad-CAM heatmaps: ``generate_heatmap(output, class_id, model, image)``\n",
    "*   **2.3.2** Display heatmaps: add code to cell\n",
    "*   **2.3.3** Generate heatmaps for failure analysis\n"
   ]
  },
  {
   "cell_type": "markdown",
   "metadata": {
    "id": "-gYdjXng4CJ5"
   },
   "source": [
    "### Loading a pre-trained model\n",
    "\n",
    "Run the cell below to load an AlexNet model with pre-trained weights."
   ]
  },
  {
   "cell_type": "code",
   "execution_count": 2,
   "metadata": {
    "id": "ik9dzD4S4CJ6"
   },
   "outputs": [
    {
     "name": "stderr",
     "output_type": "stream",
     "text": [
      "Using cache found in /Users/ysbecca/.cache/torch/hub/pytorch_vision_v0.6.0\n"
     ]
    },
    {
     "data": {
      "text/plain": [
       "AlexNet(\n",
       "  (features): Sequential(\n",
       "    (0): Conv2d(3, 64, kernel_size=(11, 11), stride=(4, 4), padding=(2, 2))\n",
       "    (1): ReLU(inplace=True)\n",
       "    (2): MaxPool2d(kernel_size=3, stride=2, padding=0, dilation=1, ceil_mode=False)\n",
       "    (3): Conv2d(64, 192, kernel_size=(5, 5), stride=(1, 1), padding=(2, 2))\n",
       "    (4): ReLU(inplace=True)\n",
       "    (5): MaxPool2d(kernel_size=3, stride=2, padding=0, dilation=1, ceil_mode=False)\n",
       "    (6): Conv2d(192, 384, kernel_size=(3, 3), stride=(1, 1), padding=(1, 1))\n",
       "    (7): ReLU(inplace=True)\n",
       "    (8): Conv2d(384, 256, kernel_size=(3, 3), stride=(1, 1), padding=(1, 1))\n",
       "    (9): ReLU(inplace=True)\n",
       "    (10): Conv2d(256, 256, kernel_size=(3, 3), stride=(1, 1), padding=(1, 1))\n",
       "    (11): ReLU(inplace=True)\n",
       "    (12): MaxPool2d(kernel_size=3, stride=2, padding=0, dilation=1, ceil_mode=False)\n",
       "  )\n",
       "  (avgpool): AdaptiveAvgPool2d(output_size=(6, 6))\n",
       "  (classifier): Sequential(\n",
       "    (0): Dropout(p=0.5, inplace=False)\n",
       "    (1): Linear(in_features=9216, out_features=4096, bias=True)\n",
       "    (2): ReLU(inplace=True)\n",
       "    (3): Dropout(p=0.5, inplace=False)\n",
       "    (4): Linear(in_features=4096, out_features=4096, bias=True)\n",
       "    (5): ReLU(inplace=True)\n",
       "    (6): Linear(in_features=4096, out_features=1000, bias=True)\n",
       "  )\n",
       ")"
      ]
     },
     "execution_count": 2,
     "metadata": {},
     "output_type": "execute_result"
    }
   ],
   "source": [
    "model = torch.hub.load('pytorch/vision:v0.6.0', 'alexnet', pretrained=True)\n",
    "model.eval()"
   ]
  },
  {
   "cell_type": "code",
   "execution_count": 3,
   "metadata": {},
   "outputs": [
    {
     "data": {
      "text/plain": [
       "Sequential(\n",
       "  (0): Conv2d(3, 64, kernel_size=(11, 11), stride=(4, 4), padding=(2, 2))\n",
       "  (1): ReLU(inplace=True)\n",
       "  (2): MaxPool2d(kernel_size=3, stride=2, padding=0, dilation=1, ceil_mode=False)\n",
       "  (3): Conv2d(64, 192, kernel_size=(5, 5), stride=(1, 1), padding=(2, 2))\n",
       "  (4): ReLU(inplace=True)\n",
       "  (5): MaxPool2d(kernel_size=3, stride=2, padding=0, dilation=1, ceil_mode=False)\n",
       "  (6): Conv2d(192, 384, kernel_size=(3, 3), stride=(1, 1), padding=(1, 1))\n",
       "  (7): ReLU(inplace=True)\n",
       "  (8): Conv2d(384, 256, kernel_size=(3, 3), stride=(1, 1), padding=(1, 1))\n",
       "  (9): ReLU(inplace=True)\n",
       "  (10): Conv2d(256, 256, kernel_size=(3, 3), stride=(1, 1), padding=(1, 1))\n",
       "  (11): ReLU(inplace=True)\n",
       "  (12): MaxPool2d(kernel_size=3, stride=2, padding=0, dilation=1, ceil_mode=False)\n",
       ")"
      ]
     },
     "execution_count": 3,
     "metadata": {},
     "output_type": "execute_result"
    }
   ],
   "source": [
    "model.features"
   ]
  },
  {
   "cell_type": "code",
   "execution_count": 4,
   "metadata": {},
   "outputs": [
    {
     "data": {
      "text/plain": [
       "Conv2d(3, 64, kernel_size=(11, 11), stride=(4, 4), padding=(2, 2))"
      ]
     },
     "execution_count": 4,
     "metadata": {},
     "output_type": "execute_result"
    }
   ],
   "source": [
    "model.features[0]"
   ]
  },
  {
   "cell_type": "code",
   "execution_count": 6,
   "metadata": {},
   "outputs": [
    {
     "data": {
      "text/plain": [
       "torch.Size([64, 3, 11, 11])"
      ]
     },
     "execution_count": 6,
     "metadata": {},
     "output_type": "execute_result"
    }
   ],
   "source": [
    "model.features[0].weight.shape"
   ]
  },
  {
   "cell_type": "markdown",
   "metadata": {
    "id": "GXzlLbstCE7f"
   },
   "source": [
    "\n",
    "## 2.1 Extract and visualize the filters [6 marks]\n",
    "\n",
    "In this section you will extract and visualize the filters from the pre-trained AlexNet."
   ]
  },
  {
   "cell_type": "markdown",
   "metadata": {
    "id": "_vOrqr2J4CJ7"
   },
   "source": [
    "### 2.1.1 Extract filters [4 marks]\n",
    "\n",
    "Complete the following function ```fetch_filters``` to return all the filters from the convolutional layers at the given index in ```model.features``` (see printed model above for reference). \n",
    "\n",
    "\n",
    "\n",
    "\n",
    "\n",
    "> We will not test the behaviour of your function using invalid indices.\n",
    "\n"
   ]
  },
  {
   "cell_type": "code",
   "execution_count": null,
   "metadata": {
    "id": "sdbDXckn4CJ8"
   },
   "outputs": [],
   "source": [
    "def fetch_filters(layer_idx, model):\n",
    "    \"\"\" \n",
    "        Args:\n",
    "            layer_idx (int): the index of model.features specifying which conv layer\n",
    "            model (AlexNet): PyTorch AlexNet object\n",
    "        Return:\n",
    "            filters (Tensor):      \n",
    "    \"\"\"\n",
    "    # TO COMPLETE\n",
    "    # return filters"
   ]
  },
  {
   "cell_type": "code",
   "execution_count": null,
   "metadata": {
    "id": "HNxPI5y-4CJ8"
   },
   "outputs": [],
   "source": [
    "# all the indices of the conv layers\n",
    "conv_layer_idx = [0, 3, 6, 8, 10]\n",
    "\n",
    "filters = []\n",
    "\n",
    "for layer_idx in conv_layer_idx:\n",
    "    filters.append(fetch_filters(layer_idx, model))"
   ]
  },
  {
   "cell_type": "markdown",
   "metadata": {
    "id": "PWSpX94c4CKD"
   },
   "source": [
    "For your testing purposes, the following code blocks test the dimensions of the function output."
   ]
  },
  {
   "cell_type": "code",
   "execution_count": null,
   "metadata": {
    "id": "TXeQtKkK4CKE"
   },
   "outputs": [],
   "source": [
    "filters[0].shape"
   ]
  },
  {
   "cell_type": "code",
   "execution_count": null,
   "metadata": {
    "id": "QZnC8Eth4CKF"
   },
   "outputs": [],
   "source": [
    "assert list(filters[0].shape) == [64, 3, 11, 11]"
   ]
  },
  {
   "cell_type": "markdown",
   "metadata": {
    "id": "ECx7Ktsg4CKG"
   },
   "source": [
    "\n",
    "\n",
    "### 2.1.2 Display filters [2 marks]\n",
    "\n",
    "The following code will visualize some of the filters from each layer. Play around with viewing filters at different depths into the network. Note that ```filters[0]``` could be viewed in colour if you prefer, whereas the subsequent layers must be viewed one channel at a time in grayscale. \n",
    "\n"
   ]
  },
  {
   "cell_type": "code",
   "execution_count": null,
   "metadata": {
    "id": "7K6N3ThU4CKG",
    "scrolled": false
   },
   "outputs": [],
   "source": [
    "# limit how many filters to show\n",
    "to_show = 16\n",
    "\n",
    "# compute the dimensions of the plot\n",
    "plt_dim = int(math.sqrt(to_show))\n",
    "\n",
    "# plot the first channel of each filter in a grid\n",
    "for i, filt in enumerate(filters[0].numpy()[:to_show]):\n",
    "    plt.subplot(plt_dim, plt_dim, i+1)\n",
    "    plt.imshow(filt[0], cmap=\"gray\")\n",
    "    plt.axis('off')\n",
    "plt.show()"
   ]
  },
  {
   "cell_type": "markdown",
   "metadata": {
    "id": "yCJF9IIF4CKI"
   },
   "source": [
    "\n",
    "\n",
    "## 2.2 Extract and visualize feature maps [10 marks]\n",
    "\n",
    "In this section, you will pass a test image through the AlexNet and extract and visualize the resulting convolutional layer feature maps.\n",
    "\n",
    "Complete the following code cell to load the test image ```man_bike.JPEG```.\n",
    "\n"
   ]
  },
  {
   "cell_type": "markdown",
   "metadata": {
    "id": "bVfEgbC4I_dE"
   },
   "source": [
    "### 2.2.1 Load test image [1 mark]\n"
   ]
  },
  {
   "cell_type": "code",
   "execution_count": null,
   "metadata": {
    "id": "xypfUN7y4CKI"
   },
   "outputs": [],
   "source": [
    "# TO COMPLETE"
   ]
  },
  {
   "cell_type": "markdown",
   "metadata": {
    "id": "aF2t9uOk4CKJ"
   },
   "source": [
    "Run the code cell below to apply the image transformation expected by the model."
   ]
  },
  {
   "cell_type": "code",
   "execution_count": null,
   "metadata": {
    "id": "Jt0tJQsM4CKO"
   },
   "outputs": [],
   "source": [
    "# ImageNet normalisation values, to apply to the image transform\n",
    "norm_mean = [0.485, 0.456, 0.406]\n",
    "norm_std = [0.229, 0.224, 0.225]\n",
    "\n",
    "data_transform = transforms.Compose([\n",
    "        transforms.Resize(256),\n",
    "        transforms.CenterCrop(256),\n",
    "        transforms.ToTensor(),\n",
    "        transforms.Normalize(norm_mean, norm_std),\n",
    "    ])\n",
    "\n",
    "im = data_transform(im)"
   ]
  },
  {
   "cell_type": "markdown",
   "metadata": {
    "id": "5VQKNo384CKP"
   },
   "source": [
    "\n",
    "### 2.2.2 Extract feature maps [5 marks]\n",
    "\n",
    "Complete the function below to pass the test image through a single forward pass of the network. We are interested in the outputs of the max pool layers (outputs of conv layers at model.features indices 0, 3, and 10) for best visualization. Note that the input should pass through *every layer* of the model."
   ]
  },
  {
   "cell_type": "code",
   "execution_count": null,
   "metadata": {
    "id": "kmqQ_mJ54CKP"
   },
   "outputs": [],
   "source": [
    "def fetch_feature_maps(image, model):\n",
    "    \"\"\"\n",
    "    Args:\n",
    "        image (Tensor): a single input image with transform applied\n",
    "        model (AlexNet): PyTorch AlexNet object\n",
    "        \n",
    "    Return:\n",
    "        feature_maps (Tensor): all the feature maps from conv layers \n",
    "                    at indices 0, 3, and 10 (outputs of the MaxPool layers)\n",
    "    \"\"\"\n",
    "\n",
    "    # TO COMPLETE\n",
    "    # return feature_maps"
   ]
  },
  {
   "cell_type": "code",
   "execution_count": null,
   "metadata": {
    "id": "ORkRxCVo4CKQ"
   },
   "outputs": [],
   "source": [
    "feature_maps = fetch_feature_maps(im.unsqueeze(0), model)"
   ]
  },
  {
   "cell_type": "markdown",
   "metadata": {
    "id": "Pf3SZoFu4CKQ"
   },
   "source": [
    "For your testing purposes, the following code block tests the dimensions of part of the function output. Note that the first dimension is the batch size."
   ]
  },
  {
   "cell_type": "code",
   "execution_count": null,
   "metadata": {
    "id": "Ow7jGdQ94CKR"
   },
   "outputs": [],
   "source": [
    "assert len(feature_maps) == 3\n",
    "assert list(feature_maps[0].shape) == [1, 64, 31, 31]"
   ]
  },
  {
   "cell_type": "markdown",
   "metadata": {
    "id": "yDmwrp-w4CKR"
   },
   "source": [
    "\n",
    "\n",
    "### 2.2.3 Display feature maps [4 marks]\n",
    "\n",
    "Using the code for displaying filters as reference, write code in the block below to display the outputs of the first **16 feature maps from each of the 3 max-pool layers**."
   ]
  },
  {
   "cell_type": "code",
   "execution_count": null,
   "metadata": {
    "id": "Y2O8TZG74CKS"
   },
   "outputs": [],
   "source": [
    "# TO COMPLETE"
   ]
  },
  {
   "cell_type": "markdown",
   "metadata": {
    "id": "BZNGf5WQ4CKG"
   },
   "source": [
    "\n",
    "\n",
    "\n",
    "## 2.3 Understanding of filters and feature maps [7 marks]\n",
    "\n",
    "Respond in detail to the questions below. (Note that all text boxes can be formatted using Markdown if desired).\n",
    "\n",
    "### 2.3.1 [3 marks]\n",
    "Describe what the three filters at indices 0, 4, and 6 from the first convolutional layer are detecting (reference the corresponding feature maps to support your discussion).\n"
   ]
  },
  {
   "cell_type": "markdown",
   "metadata": {},
   "source": [
    "--> Double click here to respond"
   ]
  },
  {
   "cell_type": "markdown",
   "metadata": {},
   "source": [
    "### 2.3.2 [2 marks]\n",
    "Discuss how the filters change with depth into the network."
   ]
  },
  {
   "cell_type": "markdown",
   "metadata": {},
   "source": [
    "--> Double click here to respond"
   ]
  },
  {
   "cell_type": "markdown",
   "metadata": {},
   "source": [
    "### 2.3.3 [2 marks]\n",
    "Discuss how the feature maps change with depth into the network."
   ]
  },
  {
   "cell_type": "markdown",
   "metadata": {},
   "source": [
    "--> Double click here to respond"
   ]
  },
  {
   "cell_type": "markdown",
   "metadata": {
    "id": "ZXeO_agI4CKS"
   },
   "source": [
    "\n",
    "## 2.4 Gradient-weighted Class Activation Mapping (Grad-CAM) [17 marks]\n",
    "\n",
    "In this section, we will explore using Gradient-weighted Class Activation Mapping (Grad-CAM) to generate coarse localization maps highlighting the important regions in the test images guiding the model's prediction. We will continue using the pre-trained AlexNet.\n",
    "\n",
    "#### Preparation\n",
    ">It is recommended to first read the relevant paper [Grad-CAM: Visual Explanations from Deep Networks via Gradient-based Localization](https://arxiv.org/abs/1610.02391), and refer to relevant course material.\n",
    "\n",
    "#### The AlexNet class\n",
    "\n",
    ">To implement Grad-CAM, we need to edit the AlexNet ```module``` class itself, so instead of loading the AlexNet model from ```torch.hub``` as we did above, we will use the official PyTorch AlexNet class code ([taken from here](https://pytorch.org/vision/stable/_modules/torchvision/models/alexnet.html)). In addition to the class definition, there is also a function below called ```alexnet()``` which allows you to specify whether you want the pretrained version or not, and if so, loads the weights. \n",
    "\n",
    "#### The hook\n",
    "\n",
    ">[Hooks](https://pytorch.org/tutorials/beginner/former_torchies/nnft_tutorial.html#forward-and-backward-function-hooks) in PyTorch are functions which can be registered, or attached, to a ```Module``` or ```Tensor```. Hooks can be *forward* hooks or *backward* hooks; forward hooks are called with ```forward()``` and backward hooks with ```backward()```. In the model below, we register a forward hook that saves the **gradients of the activations** to the Tensor output of ```model.features```. The gradients are saved to a class variable so we can easily access them.\n",
    "\n",
    "Carefully read the code block below. You do not need to add anything to the model."
   ]
  },
  {
   "cell_type": "code",
   "execution_count": null,
   "metadata": {
    "id": "74G4wPeG4CKS"
   },
   "outputs": [],
   "source": [
    "# defining where to load the pre-trained weights from\n",
    "model_urls = {\n",
    "    'alexnet': 'https://download.pytorch.org/models/alexnet-owt-7be5be79.pth',\n",
    "}\n",
    "\n",
    "# the class definition\n",
    "class AlexNet(nn.Module):\n",
    "\n",
    "    def __init__(self, num_classes=1000):\n",
    "        super(AlexNet, self).__init__()\n",
    "        \n",
    "        # a placeholder for storing the gradients\n",
    "        self.gradients = None\n",
    "        \n",
    "        self.features = nn.Sequential(\n",
    "            nn.Conv2d(3, 64, kernel_size=11, stride=4, padding=2),\n",
    "            nn.ReLU(inplace=True),\n",
    "            nn.MaxPool2d(kernel_size=3, stride=2),\n",
    "            nn.Conv2d(64, 192, kernel_size=5, padding=2),\n",
    "            nn.ReLU(inplace=True),\n",
    "            nn.MaxPool2d(kernel_size=3, stride=2),\n",
    "            nn.Conv2d(192, 384, kernel_size=3, padding=1),\n",
    "            nn.ReLU(inplace=True),\n",
    "            nn.Conv2d(384, 256, kernel_size=3, padding=1),\n",
    "            nn.ReLU(inplace=True),\n",
    "            nn.Conv2d(256, 256, kernel_size=3, padding=1),\n",
    "            nn.ReLU(inplace=True),\n",
    "            nn.MaxPool2d(kernel_size=3, stride=2),\n",
    "        )\n",
    "        \n",
    "        self.avgpool = nn.AdaptiveAvgPool2d((6, 6))\n",
    "        self.classifier = nn.Sequential(\n",
    "            nn.Dropout(),\n",
    "            nn.Linear(256 * 6 * 6, 4096),\n",
    "            nn.ReLU(inplace=True),\n",
    "            nn.Dropout(),\n",
    "            nn.Linear(4096, 4096),\n",
    "            nn.ReLU(inplace=True),\n",
    "            nn.Linear(4096, num_classes),\n",
    "        )\n",
    "        \n",
    "    # the hook for the gradients of the activations\n",
    "    def activations_hook(self, grad):\n",
    "        # stores the gradients of the hook's tensor to our placeholder variable\n",
    "        self.gradients = grad\n",
    "\n",
    "    # a method for extracting the activations of the last conv layer only (when we're \n",
    "    # not interested in a full forward pass)\n",
    "    def get_activations(self, x):\n",
    "        return self.features(x)\n",
    "    \n",
    "    def forward(self, x):\n",
    "        x = self.features(x)\n",
    "        \n",
    "        # we register the hook here to save the gradients of the last convolutional\n",
    "        # layer outputs\n",
    "        hook = x.register_hook(self.activations_hook)\n",
    "        \n",
    "        x = self.avgpool(x)\n",
    "        x = torch.flatten(x, 1)\n",
    "        x = self.classifier(x)\n",
    "        return x\n",
    "\n",
    "\n",
    "def alexnet(pretrained=False, progress=True, **kwargs) -> AlexNet:\n",
    "    \"\"\"AlexNet model architecture from the\n",
    "    `\"One weird trick...\" <https://arxiv.org/abs/1404.5997>`_ paper.\n",
    "\n",
    "    Args:\n",
    "        pretrained (bool): If True, returns a model pre-trained on ImageNet\n",
    "        progress (bool): If True, displays a progress bar of the download to stderr\n",
    "    \"\"\"\n",
    "    model = AlexNet(**kwargs)\n",
    "    if pretrained:\n",
    "        state_dict = load_state_dict_from_url(model_urls['alexnet'],\n",
    "                                              progress=progress)\n",
    "        model.load_state_dict(state_dict)\n",
    "    return model"
   ]
  },
  {
   "cell_type": "code",
   "execution_count": null,
   "metadata": {
    "id": "8FZEiLFv4CKT"
   },
   "outputs": [],
   "source": [
    "model = alexnet(pretrained=True)"
   ]
  },
  {
   "cell_type": "code",
   "execution_count": null,
   "metadata": {
    "id": "WiBjgrST4CKT"
   },
   "outputs": [],
   "source": [
    "# pass our test image through our new model with the hook\n",
    "output = model(im.unsqueeze(0))\n",
    "\n",
    "# save the predicted class\n",
    "_, pred_cls = output.max(dim=1, keepdim=True)"
   ]
  },
  {
   "cell_type": "markdown",
   "metadata": {
    "id": "GzCYhGyI4CKT"
   },
   "source": [
    "Examine and understand the values stored in ```output``` and ```pred_cls```. What does AlexNet classify the test image as?"
   ]
  },
  {
   "cell_type": "code",
   "execution_count": null,
   "metadata": {
    "id": "TU5QjsuP4CKU"
   },
   "outputs": [],
   "source": []
  },
  {
   "cell_type": "markdown",
   "metadata": {
    "id": "Mr4svXcg4CKU"
   },
   "source": [
    "### 2.4.1 Generate Grad-CAM heatmaps [8 marks]\n",
    "\n",
    "With the hooks in place, now implement the code to generate Grad-CAM heatmaps, by following the guiding comments in the code block below."
   ]
  },
  {
   "cell_type": "code",
   "execution_count": 1,
   "metadata": {
    "id": "Rdlr69tw4CKU"
   },
   "outputs": [],
   "source": [
    "def generate_heatmap(output, class_id, model, image):\n",
    "    \n",
    "    # 1. compute the gradient of the score for the predicted class (logit)\n",
    "    # with respect to the feature map activations of the last convolutional layer\n",
    "    # Hint: calling .backward() on a Tensor computes its gradients\n",
    "    # TO COMPLETE\n",
    "    \n",
    "    # 2. get the gradients from the model placeholder variable\n",
    "    # TO COMPLETE\n",
    "    assert list(gradients.shape) == [1, 256, 7, 7]\n",
    "    \n",
    "    # pool the gradients across the channels\n",
    "    pooled_gradients = torch.mean(gradients, dim=[0, 2, 3])\n",
    "    assert list(pooled_gradients.shape) == [256]\n",
    "    \n",
    "    # 3. get the activations of the last convolutional layer\n",
    "    # TO COMPLETE\n",
    "    assert list(activations.shape) == [1, 256, 7, 7]\n",
    "    \n",
    "    # 4. weight (multiply) the channels (dim=1 of activations) by the corresponding\n",
    "    # gradients (pooled_gradients)\n",
    "    # TO COMPLETE\n",
    "\n",
    "    # average the channels of the activations and squeeze out the extra dimension\n",
    "    heatmap = torch.mean(activations, dim=1).squeeze()\n",
    "    assert list(heatmap.shape) == [7, 7]\n",
    "    \n",
    "    # 5. apply a ReLU to the linear combination of maps because we are only \n",
    "    # interested in the features that have a positive influence on the class of \n",
    "    # interest, i.e. pixels whose intensity should be increased in order to increase y\n",
    "    # Hint: you can use np.maximum() and torch.max() to perform ReLU if you prefer.\n",
    "    \n",
    "    # TO COMPLETE\n",
    "    # return heatmap"
   ]
  },
  {
   "cell_type": "code",
   "execution_count": null,
   "metadata": {
    "id": "4PEmi-aM4CKU"
   },
   "outputs": [],
   "source": [
    "heatmap = generate_heatmap(output, pred_cls, model, im.unsqueeze(0))"
   ]
  },
  {
   "cell_type": "markdown",
   "metadata": {
    "id": "eaiH3MIO4CKV"
   },
   "source": [
    "Check the dimensions of ```heatmap```. Do they make sense?"
   ]
  },
  {
   "cell_type": "code",
   "execution_count": null,
   "metadata": {
    "id": "qigb0A9F4CKV"
   },
   "outputs": [],
   "source": []
  },
  {
   "cell_type": "markdown",
   "metadata": {
    "id": "rvyCYUpw4CKW"
   },
   "source": [
    "### 2.4.2 Display heatmaps [4 marks]\n",
    "\n",
    "Display ```heatmap``` as a coloured heatmap super-imposed onto the original image. To get results as shown in the paper, we recommend the following steps:\n",
    "\n",
    "1. Resize the heatmap to match the size of the image.\n",
    "2. Rescale the image to a 0-255 integer range.\n",
    "3. Apply a colormap to the heatmap using ```cv2.applyColorMap(heatmap, cv2.COLORMAP_JET)```.\n",
    "4. Multiply all values of heatmap by 0.4 to reduce colour saturation.\n",
    "5. Superimpose the heatmap onto the original image (Note: please perform cv2's addition - addition of two cv2 images, not numpy addition. See [here](https://opencv24-python-tutorials.readthedocs.io/en/latest/py_tutorials/py_core/py_image_arithmetics/py_image_arithmetics.html#:~:text=addWeighted()%20etc.-,Image%20Addition,OpenCV%20addition%20and%20Numpy%20addition.) for explanation.)\n",
    "6. Normalize the image between 0-255 again.\n",
    "7. Display the resulting image."
   ]
  },
  {
   "cell_type": "code",
   "execution_count": null,
   "metadata": {
    "id": "GwTIJoh84CKX"
   },
   "outputs": [],
   "source": [
    "# TO COMPLETE"
   ]
  },
  {
   "cell_type": "markdown",
   "metadata": {
    "id": "Nf9aa-2V4CKX"
   },
   "source": [
    "Show the heatmap for class ```'seashore, coast, seacoast, sea-coast'``` (```class_id = 978```), super-imposed onto the original image."
   ]
  },
  {
   "cell_type": "code",
   "execution_count": null,
   "metadata": {},
   "outputs": [],
   "source": [
    "# TO COMPLETE"
   ]
  },
  {
   "cell_type": "code",
   "execution_count": null,
   "metadata": {},
   "outputs": [],
   "source": []
  },
  {
   "cell_type": "markdown",
   "metadata": {},
   "source": [
    "### 2.4.3 Failure analysis using Grad-CAM [5 marks]\n",
    "\n",
    "Find an image (online, or from ImageNet or another dataset) which AlexNet classifies *incorrectly*. Display the image below, and show the model's predicted class. Then, generate the Grad-CAM heatmap and display it super-imposed onto the image."
   ]
  },
  {
   "cell_type": "code",
   "execution_count": null,
   "metadata": {},
   "outputs": [],
   "source": [
    "# TO COMPLETE"
   ]
  },
  {
   "cell_type": "code",
   "execution_count": null,
   "metadata": {},
   "outputs": [],
   "source": []
  },
  {
   "cell_type": "code",
   "execution_count": null,
   "metadata": {},
   "outputs": [],
   "source": []
  },
  {
   "cell_type": "markdown",
   "metadata": {},
   "source": [
    "Briefly describe what explanation the Grad-CAM heatmap provides about why the model has failed to correctly classify your test image."
   ]
  },
  {
   "cell_type": "markdown",
   "metadata": {},
   "source": [
    "--> Double click to respond here"
   ]
  },
  {
   "cell_type": "code",
   "execution_count": null,
   "metadata": {},
   "outputs": [],
   "source": []
  },
  {
   "cell_type": "markdown",
   "metadata": {},
   "source": [
    "### 3 Overall quality [2 marks]\n",
    "\n",
    "Marks awarded for overall degree of code readibility and omission of unnecessary messy outupts (for example, please avoid printed losses for every batch of a long training process, large numpy arrays, etc.) throughout the work."
   ]
  },
  {
   "cell_type": "markdown",
   "metadata": {},
   "source": [
    "**Please refer to the submission section at the top of this notebook to prepare your submission.**\n"
   ]
  },
  {
   "cell_type": "code",
   "execution_count": null,
   "metadata": {},
   "outputs": [],
   "source": []
  }
 ],
 "metadata": {
  "colab": {
   "name": "COMP5623M_CW1_Q2.ipynb",
   "provenance": []
  },
  "kernelspec": {
   "display_name": "Python 3",
   "language": "python",
   "name": "python3"
  },
  "language_info": {
   "codemirror_mode": {
    "name": "ipython",
    "version": 3
   },
   "file_extension": ".py",
   "mimetype": "text/x-python",
   "name": "python",
   "nbconvert_exporter": "python",
   "pygments_lexer": "ipython3",
   "version": "3.8.5"
  }
 },
 "nbformat": 4,
 "nbformat_minor": 1
}
